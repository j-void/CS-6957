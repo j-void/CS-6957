{
 "cells": [
  {
   "cell_type": "code",
   "execution_count": null,
   "metadata": {},
   "outputs": [],
   "source": [
    "import numpy as np\n",
    "import torch\n",
    "from tqdm import tqdm\n",
    "from torch.utils.data import DataLoader\n",
    "import torch.nn as nn\n",
    "from collections import defaultdict\n",
    "import math\n",
    "import config as cfg\n",
    "from data_loader import *\n",
    "from model import *\n",
    "import copy\n",
    "from transformers import BertTokenizer\n",
    "import evaluate\n"
   ]
  },
  {
   "cell_type": "code",
   "execution_count": null,
   "metadata": {},
   "outputs": [],
   "source": [
    "test_dataset = IAM_SROIE_Dataset(split=\"test\", tokenizer=tokenizer)\n",
    "\n",
    "test_loader = DataLoader(\n",
    "    train_dataset,\n",
    "    batch_size=1,\n",
    "    shuffle=True,\n",
    "    num_workers=8,\n",
    "    pin_memory=torch.cuda.is_available()\n",
    ")\n",
    "\n",
    "model = ViTEncoderLSTMDecoder(vocab_size=tokenizer.vocab_size)\n",
    "model.to(cfg.DEVICE)\n",
    "model.load_state_dict(torch.load(\"\"))\n"
   ]
  },
  {
   "cell_type": "code",
   "execution_count": null,
   "metadata": {},
   "outputs": [],
   "source": [
    "model.eval()\n",
    "mean_cer = 0.0\n",
    "with torch.no_grad():\n",
    "    for pixel_values, labels, attention_mask in dataloader:\n",
    "        pixel_values = pixel_values.to(cfg.DEVICE)\n",
    "        labels = labels.to(cfg.DEVICE)\n",
    "        pred_idx = model.generate(pixel_values)\n",
    "        pred_str = tokenizer.batch_decode(pred_idx, skip_special_tokens=True)\n",
    "        # labels[labels == -100] = tokenizer.pad_token_id\n",
    "        label_str = tokenizer.batch_decode(labels, skip_special_tokens=True)\n",
    "        # print(\"pred_str\", pred_str)\n",
    "        # print(\"label_str\", label_str)\n",
    "        cer = cer_metric.compute(predictions=pred_str, references=label_str)\n",
    "        mean_cer += cer\n",
    "        \n",
    "print()"
   ]
  },
  {
   "cell_type": "code",
   "execution_count": null,
   "metadata": {},
   "outputs": [],
   "source": []
  },
  {
   "cell_type": "code",
   "execution_count": null,
   "metadata": {},
   "outputs": [],
   "source": []
  },
  {
   "cell_type": "code",
   "execution_count": null,
   "metadata": {},
   "outputs": [],
   "source": []
  },
  {
   "cell_type": "code",
   "execution_count": null,
   "metadata": {},
   "outputs": [],
   "source": []
  }
 ],
 "metadata": {
  "language_info": {
   "name": "python"
  }
 },
 "nbformat": 4,
 "nbformat_minor": 2
}
