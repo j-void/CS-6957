{
 "cells": [
  {
   "cell_type": "code",
   "execution_count": 1,
   "metadata": {},
   "outputs": [],
   "source": [
    "import numpy as np\n",
    "import torch\n",
    "from tqdm import tqdm\n",
    "from torch.utils.data import DataLoader\n",
    "import torch.nn as nn\n",
    "from collections import defaultdict\n",
    "import math\n",
    "import scripts.utils as utils\n",
    "import config as cfg\n",
    "from data_loader import *\n",
    "from model import *\n",
    "import copy\n",
    "from numpy.linalg import norm\n"
   ]
  },
  {
   "cell_type": "code",
   "execution_count": 2,
   "metadata": {},
   "outputs": [
    {
     "data": {
      "text/plain": [
       "<All keys matched successfully>"
      ]
     },
     "execution_count": 2,
     "metadata": {},
     "output_type": "execute_result"
    }
   ],
   "source": [
    "vocab_dict = utils.get_word2ix(cfg.vocab_path)\n",
    "model = CBoW2(vocab_size=len(vocab_dict), embedding_dim=cfg.edim)\n",
    "model.to(cfg.DEVICE)\n",
    "model.load_state_dict(torch.load(os.path.join(\"checkpoints\", \"par_lr_0_001\", \"save\", \"model_val.torch\")))"
   ]
  },
  {
   "cell_type": "code",
   "execution_count": 3,
   "metadata": {},
   "outputs": [],
   "source": [
    "def cosine_sim(v1, v2):\n",
    "    return np.dot(v1,v2)/(norm(v1)*norm(v2))\n",
    "\n",
    "\n",
    "def get_cosine_sim(l1, l2, vocab_dict, device):\n",
    "    t1 = torch.tensor(vocab_dict[l1]).unsqueeze(0).long().to(device)\n",
    "    t2 = torch.tensor(vocab_dict[l2]).unsqueeze(0).long().to(device)\n",
    "    e1 = model.get_embeddings(t1).squeeze().detach().cpu().numpy()\n",
    "    e2 = model.get_embeddings(t2).squeeze().detach().cpu().numpy()\n",
    "    return cosine_sim(e1, e2)\n",
    "    "
   ]
  },
  {
   "cell_type": "code",
   "execution_count": 4,
   "metadata": {},
   "outputs": [
    {
     "name": "stdout",
     "output_type": "stream",
     "text": [
      "cat_tiger = 0.9065176\n",
      "plane_human = 0.86195904\n"
     ]
    }
   ],
   "source": [
    "cat_tiger = get_cosine_sim(\"cat\", \"tiger\", vocab_dict, cfg.DEVICE)\n",
    "print(\"cat_tiger =\", cat_tiger)\n",
    "plane_human = get_cosine_sim(\"plane\", \"human\", vocab_dict, cfg.DEVICE)\n",
    "print(\"plane_human =\", plane_human)"
   ]
  },
  {
   "cell_type": "code",
   "execution_count": 5,
   "metadata": {},
   "outputs": [
    {
     "name": "stdout",
     "output_type": "stream",
     "text": [
      "my_mine = 0.9056487\n",
      "happy_human = 0.9235775\n"
     ]
    }
   ],
   "source": [
    "my_mine = get_cosine_sim(\"my\", \"mine\", vocab_dict, cfg.DEVICE)\n",
    "print(\"my_mine =\", my_mine)\n",
    "happy_human = get_cosine_sim(\"happy\", \"human\", vocab_dict, cfg.DEVICE)\n",
    "print(\"happy_human =\", happy_human)"
   ]
  },
  {
   "cell_type": "code",
   "execution_count": 6,
   "metadata": {},
   "outputs": [
    {
     "name": "stdout",
     "output_type": "stream",
     "text": [
      "happy_cat = 0.8628401\n",
      "king_princess = 0.86253476\n"
     ]
    }
   ],
   "source": [
    "happy_cat = get_cosine_sim(\"happy\", \"cat\", vocab_dict, cfg.DEVICE)\n",
    "print(\"happy_cat =\", happy_cat)\n",
    "king_princess = get_cosine_sim(\"king\", \"princess\", vocab_dict, cfg.DEVICE)\n",
    "print(\"king_princess =\", king_princess)"
   ]
  },
  {
   "cell_type": "code",
   "execution_count": 7,
   "metadata": {},
   "outputs": [
    {
     "name": "stdout",
     "output_type": "stream",
     "text": [
      "ball_racket = 0.88345003\n",
      "good_ugly = 0.8391444\n"
     ]
    }
   ],
   "source": [
    "ball_racket = get_cosine_sim(\"ball\", \"racket\", vocab_dict, cfg.DEVICE)\n",
    "print(\"ball_racket =\", ball_racket)\n",
    "good_ugly = get_cosine_sim(\"good\", \"ugly\", vocab_dict, cfg.DEVICE)\n",
    "print(\"good_ugly =\", good_ugly)"
   ]
  },
  {
   "cell_type": "code",
   "execution_count": 8,
   "metadata": {},
   "outputs": [
    {
     "name": "stdout",
     "output_type": "stream",
     "text": [
      "cat_racket = 0.92847943\n",
      "good_bad = 0.9054469\n"
     ]
    }
   ],
   "source": [
    "cat_racket = get_cosine_sim(\"cat\", \"racket\", vocab_dict, cfg.DEVICE)\n",
    "print(\"cat_racket =\", cat_racket)\n",
    "good_bad = get_cosine_sim(\"good\", \"bad\", vocab_dict, cfg.DEVICE)\n",
    "print(\"good_bad =\", good_bad)"
   ]
  },
  {
   "cell_type": "code",
   "execution_count": 9,
   "metadata": {},
   "outputs": [],
   "source": [
    "from scipy.spatial.distance import cosine, cdist\n",
    "\n",
    "def get_nearest(wa, wb, wc, vocab_dict, device):\n",
    "    ta = torch.tensor(vocab_dict[wa]).unsqueeze(0).long().to(device)\n",
    "    tb = torch.tensor(vocab_dict[wb]).unsqueeze(0).long().to(device)\n",
    "    tc = torch.tensor(vocab_dict[wc]).unsqueeze(0).long().to(device)\n",
    "    ea = model.get_embeddings(ta).squeeze().detach().cpu().numpy()\n",
    "    eb = model.get_embeddings(tb).squeeze().detach().cpu().numpy()\n",
    "    ec = model.get_embeddings(tc).squeeze().detach().cpu().numpy()\n",
    "    pred_ed = eb-ea+ec\n",
    "    sim_dict = {}\n",
    "    for key, value in vocab_dict.items():\n",
    "        if key == wa or key == wb or key == wc:\n",
    "            continue\n",
    "        td = torch.tensor(value).unsqueeze(0).long().to(device)\n",
    "        ed = model.get_embeddings(td).squeeze().detach().cpu().numpy()\n",
    "        sim_dict[key] = cosine_sim(pred_ed, ed)\n",
    "    sim_dict_ = dict(sorted(sim_dict.items(), key=lambda item: item[1]))\n",
    "    return (list(sim_dict_.keys())[-5:])[::-1]"
   ]
  },
  {
   "cell_type": "code",
   "execution_count": 10,
   "metadata": {},
   "outputs": [
    {
     "name": "stdout",
     "output_type": "stream",
     "text": [
      "king:queen, man:['friend', 'deep', 'person', 'beauty', 'always']\n",
      "king:queen, prince:['irène', 'äfven', 'tid', 'cœurs', 'bride']\n",
      "king:man, queen:['friend', 'deep', 'person', 'beauty', 'always']\n",
      "woman:man, princess:['prince', 'tout', 'discovery', 'author', 'shogun']\n",
      "prince:princess, man:['girl', 'woman', 'gentleman', 'person', 'fellow']\n"
     ]
    }
   ],
   "source": [
    "n = get_nearest(\"king\", \"queen\", \"man\", vocab_dict, cfg.DEVICE)\n",
    "print(f\"king:queen, man:{n}\")\n",
    "n = get_nearest(\"king\", \"queen\", \"prince\", vocab_dict, cfg.DEVICE)\n",
    "print(f\"king:queen, prince:{n}\")\n",
    "n = get_nearest(\"king\", \"man\", \"queen\", vocab_dict, cfg.DEVICE)\n",
    "print(f\"king:man, queen:{n}\")\n",
    "n = get_nearest(\"woman\", \"man\", \"princess\", vocab_dict, cfg.DEVICE)\n",
    "print(f\"woman:man, princess:{n}\")\n",
    "n = get_nearest(\"prince\", \"princess\", \"man\", vocab_dict, cfg.DEVICE)\n",
    "print(f\"prince:princess, man:{n}\")"
   ]
  },
  {
   "cell_type": "code",
   "execution_count": 11,
   "metadata": {},
   "outputs": [
    {
     "name": "stdout",
     "output_type": "stream",
     "text": [
      "she_her = 0.9065176\n",
      "he_chair = 0.8290193\n"
     ]
    }
   ],
   "source": [
    "she_her = get_cosine_sim(\"she\", \"her\", vocab_dict, cfg.DEVICE)\n",
    "print(\"she_her =\", cat_tiger)\n",
    "he_chair = get_cosine_sim(\"he\", \"chair\", vocab_dict, cfg.DEVICE)\n",
    "print(\"he_chair =\", he_chair)"
   ]
  },
  {
   "cell_type": "code",
   "execution_count": 12,
   "metadata": {},
   "outputs": [
    {
     "name": "stdout",
     "output_type": "stream",
     "text": [
      "europe_france = 0.9272915\n",
      "fish_read = 0.8765209\n"
     ]
    }
   ],
   "source": [
    "europe_france = get_cosine_sim(\"europe\", \"france\", vocab_dict, cfg.DEVICE)\n",
    "print(\"europe_france =\", europe_france)\n",
    "fish_read = get_cosine_sim(\"fish\", \"read\", vocab_dict, cfg.DEVICE)\n",
    "print(\"fish_read =\", fish_read)"
   ]
  },
  {
   "cell_type": "code",
   "execution_count": 13,
   "metadata": {},
   "outputs": [
    {
     "name": "stdout",
     "output_type": "stream",
     "text": [
      "england_british = 0.90075195\n",
      "cow_philosophy = 0.8600543\n"
     ]
    }
   ],
   "source": [
    "england_british = get_cosine_sim(\"england\", \"british\", vocab_dict, cfg.DEVICE)\n",
    "print(\"england_british =\", england_british)\n",
    "cow_philosophy = get_cosine_sim(\"cow\", \"philosophy\", vocab_dict, cfg.DEVICE)\n",
    "print(\"cow_philosophy =\", cow_philosophy)"
   ]
  },
  {
   "cell_type": "code",
   "execution_count": 14,
   "metadata": {},
   "outputs": [
    {
     "name": "stdout",
     "output_type": "stream",
     "text": [
      "england:english, france:['french', 'themselves', 'popular', 'altogether', 'nevertheless']\n",
      "london:city, england:['country', 'state', 'land', 'night', 'law']\n",
      "she:her, he:['his', 'him', 'the', 'them', 'and']\n"
     ]
    }
   ],
   "source": [
    "n = get_nearest(\"england\", \"english\", \"france\", vocab_dict, cfg.DEVICE)\n",
    "print(f\"england:english, france:{n}\")\n",
    "n = get_nearest(\"london\", \"city\", \"england\", vocab_dict, cfg.DEVICE)\n",
    "print(f\"london:city, england:{n}\")\n",
    "n = get_nearest(\"she\", \"her\", \"he\", vocab_dict, cfg.DEVICE)\n",
    "print(f\"she:her, he:{n}\")"
   ]
  },
  {
   "cell_type": "code",
   "execution_count": 15,
   "metadata": {},
   "outputs": [
    {
     "data": {
      "image/png": "[encoded data removed]",
      "text/plain": [
       "<Figure size 640x480 with 1 Axes>"
      ]
     },
     "metadata": {},
     "output_type": "display_data"
    }
   ],
   "source": [
    "words = [\"horse\", \"cat\", \"dog\", \"I\", \"he\", \"she\", \"it\", \"her\", \"his\", \"our\", \"we\", \"in\", \"on\", \\\n",
    "    \"from\", \"to\", \"at\", \"by\", \"man\", \"woman\", \"boy\", \"girl\", \"king\", \"queen\", \"prince\", \"princess\"]\n",
    "\n",
    "embeddings_list = []\n",
    "\n",
    "for word in words:\n",
    "    t = torch.tensor(vocab_dict[word.lower()]).unsqueeze(0).long().to(cfg.DEVICE)\n",
    "    e = model.get_embeddings(t).squeeze().detach().cpu().numpy()\n",
    "    embeddings_list.append(e)\n",
    "\n",
    "embeddings = np.array(embeddings_list).T\n",
    "\n",
    "from sklearn.decomposition import PCA\n",
    "pca = PCA(n_components=2)\n",
    "pca.fit(embeddings)\n",
    "projections = pca.components_.T\n",
    "\n",
    "import matplotlib.pyplot as plt\n",
    "fig, ax = plt.subplots()\n",
    "ax.scatter(projections[:,0], projections[:,1])\n",
    "for i, txt in enumerate(words):\n",
    "    ax.annotate(txt, (projections[i,0]+1e-3, projections[i,1]+1e-3))\n",
    "plt.show()\n"
   ]
  },
  {
   "cell_type": "code",
   "execution_count": null,
   "metadata": {},
   "outputs": [],
   "source": []
  },
  {
   "cell_type": "code",
   "execution_count": null,
   "metadata": {},
   "outputs": [],
   "source": []
  },
  {
   "cell_type": "code",
   "execution_count": null,
   "metadata": {},
   "outputs": [],
   "source": []
  },
  {
   "cell_type": "code",
   "execution_count": null,
   "metadata": {},
   "outputs": [],
   "source": []
  },
  {
   "cell_type": "code",
   "execution_count": null,
   "metadata": {},
   "outputs": [],
   "source": []
  },
  {
   "cell_type": "code",
   "execution_count": null,
   "metadata": {},
   "outputs": [],
   "source": []
  },
  {
   "cell_type": "code",
   "execution_count": null,
   "metadata": {},
   "outputs": [],
   "source": []
  },
  {
   "cell_type": "code",
   "execution_count": null,
   "metadata": {},
   "outputs": [],
   "source": []
  }
 ],
 "metadata": {
  "kernelspec": {
   "display_name": "shapeworks_v631",
   "language": "python",
   "name": "python3"
  },
  "language_info": {
   "codemirror_mode": {
    "name": "ipython",
    "version": 3
   },
   "file_extension": ".py",
   "mimetype": "text/x-python",
   "name": "python",
   "nbconvert_exporter": "python",
   "pygments_lexer": "ipython3",
   "version": "3.7.8"
  },
  "orig_nbformat": 4
 },
 "nbformat": 4,
 "nbformat_minor": 2
}
